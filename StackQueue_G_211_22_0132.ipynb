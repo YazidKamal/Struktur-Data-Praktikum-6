{
  "nbformat": 4,
  "nbformat_minor": 0,
  "metadata": {
    "colab": {
      "provenance": [],
      "authorship_tag": "ABX9TyNiBTlmVH+ojNI7u66nIDqp",
      "include_colab_link": true
    },
    "kernelspec": {
      "name": "python3",
      "display_name": "Python 3"
    },
    "language_info": {
      "name": "python"
    }
  },
  "cells": [
    {
      "cell_type": "markdown",
      "metadata": {
        "id": "view-in-github",
        "colab_type": "text"
      },
      "source": [
        "<a href=\"https://colab.research.google.com/github/YazidKamal/Struktur-Data-Praktikum-6/blob/main/StackQueue_G_211_22_0132.ipynb\" target=\"_parent\"><img src=\"https://colab.research.google.com/assets/colab-badge.svg\" alt=\"Open In Colab\"/></a>"
      ]
    },
    {
      "cell_type": "markdown",
      "source": [
        "**ANTRIAN**"
      ],
      "metadata": {
        "id": "gqshnF1cwwnH"
      }
    },
    {
      "cell_type": "code",
      "execution_count": 1,
      "metadata": {
        "colab": {
          "base_uri": "https://localhost:8080/"
        },
        "id": "Boy8sER6m8eJ",
        "outputId": "3298ef4f-3b60-46af-94cb-c7cb22d0f4dc"
      },
      "outputs": [
        {
          "output_type": "stream",
          "name": "stdout",
          "text": [
            "deque(['Ram', 'Tarun', 'Asif', 'John'])\n",
            "deque(['Ram', 'Tarun', 'Asif', 'John', 'Akbar'])\n",
            "deque(['Ram', 'Tarun', 'Asif', 'John', 'Akbar', 'Birbal'])\n",
            "Ram\n",
            "Tarun\n",
            "deque(['Asif', 'John', 'Akbar', 'Birbal'])\n"
          ]
        }
      ],
      "source": [
        "from collections import deque\n",
        "queue = deque([\"Ram\", \"Tarun\", \"Asif\", \"John\"])\n",
        "print(queue)\n",
        "queue.append(\"Akbar\")\n",
        "print(queue)\n",
        "queue.append(\"Birbal\")\n",
        "print(queue)\n",
        "print(queue.popleft())\n",
        "print(queue.popleft())\n",
        "print(queue)\n"
      ]
    },
    {
      "cell_type": "markdown",
      "source": [
        "**Tower Hanoi**"
      ],
      "metadata": {
        "id": "TFFlomBaw61O"
      }
    },
    {
      "cell_type": "code",
      "source": [
        "def TowerOfHanoi (n, dr, menuju, bantuan):\n",
        "    if n==0:\n",
        "      return\n",
        "    TowerOfHanoi(n-1, dr, bantuan, menuju)\n",
        "    print(\"Pindah disk\", n, \"dari\", dr, \"ke\", menuju)\n",
        "    TowerOfHanoi(n-1, bantuan, dr, menuju)\n",
        "\n",
        "# Driver code\n",
        "N = 3\n",
        "\n",
        "# A, C, B are the name of rods\n",
        "TowerOfHanoi(N, 'A', 'C', 'B')"
      ],
      "metadata": {
        "colab": {
          "base_uri": "https://localhost:8080/"
        },
        "id": "6m-KHK6kxHE6",
        "outputId": "b7b9fff1-63a6-4a2f-9105-fd8523d9cf5b"
      },
      "execution_count": 2,
      "outputs": [
        {
          "output_type": "stream",
          "name": "stdout",
          "text": [
            "Pindah disk 1 dari A ke C\n",
            "Pindah disk 2 dari A ke B\n",
            "Pindah disk 1 dari C ke A\n",
            "Pindah disk 3 dari A ke C\n",
            "Pindah disk 1 dari B ke C\n",
            "Pindah disk 2 dari B ke A\n",
            "Pindah disk 1 dari C ke B\n"
          ]
        }
      ]
    },
    {
      "cell_type": "markdown",
      "source": [
        "**Mengurutkan Dalam Sebuah Stack**"
      ],
      "metadata": {
        "id": "7jJ1cVcDxKob"
      }
    },
    {
      "cell_type": "code",
      "source": [
        "def sortStack(input):\n",
        "  tmpStack = []\n",
        "  while (len(input) > 0):\n",
        "      # pop out the first element\n",
        "      tmp = input[-1]\n",
        "      input.pop()\n",
        "\n",
        "      # while temporary stack is not empty\n",
        "      # and top of stack is smaller than temp\n",
        "      while (len(tmpStack) > 0 and tmpStack[-1] < tmp):\n",
        "\n",
        "          # pop temporary stack and\n",
        "          # append it to the input stack\n",
        "          input.append(tmpStack[-1])\n",
        "          tmpStack.pop()\n",
        "\n",
        "      # append temp in temporary of stack\n",
        "      tmpStack.append(tmp)\n",
        "\n",
        "  return tmpStack\n",
        "\n",
        "def sortArrayUsingStacks(arr, n):\n",
        "\n",
        "  # append array elements to stack\n",
        "  input = []\n",
        "  i = 0\n",
        "  while (i < n):\n",
        "    input.append(arr[i])\n",
        "    i = i + 1\n",
        "\n",
        "  # sort the temporary stack\n",
        "  tmpStack = sortStack(input)\n",
        "  i = 0\n",
        "\n",
        "  # put stack elements in arrp[]\n",
        "  while (i < n):\n",
        "    arr[i] = tmpStack[-1]\n",
        "    tmpStack.pop()\n",
        "    i = i + 1\n",
        "\n",
        "    return arr\n",
        "\n",
        "# Driver code\n",
        "arr = [10, 5, 15, 45]\n",
        "n = len(arr)\n",
        "\n",
        "arr = sortArrayUsingStacks(arr, n)\n",
        "i = 0\n",
        "\n",
        "while (i < n):\n",
        "  print(arr[i], end= \" \")\n",
        "  i = i + 1\n",
        ""
      ],
      "metadata": {
        "colab": {
          "base_uri": "https://localhost:8080/"
        },
        "id": "rKUjfV1txREN",
        "outputId": "998c57b8-bc17-482d-bdb8-73df68de0c97"
      },
      "execution_count": 3,
      "outputs": [
        {
          "output_type": "stream",
          "name": "stdout",
          "text": [
            "5 5 15 45 "
          ]
        }
      ]
    }
  ]
}